{
 "cells": [
  {
   "cell_type": "markdown",
   "metadata": {},
   "source": [
    "# German City Foundation"
   ]
  },
  {
   "cell_type": "markdown",
   "metadata": {},
   "source": [
    "## TO-DO\n",
    "\n",
    "was kann ich noch über den Wiki Scraper ziehen und visualisieren? \n",
    "\n",
    "Auch irgendwelche ML Sachen?\n",
    "\n",
    "\n",
    "Aktuelle Jahreszahl sollte noch mit drauf\n",
    "\n",
    "Animations Erstellung klappt noch nicht\n"
   ]
  },
  {
   "cell_type": "code",
   "execution_count": 1,
   "metadata": {},
   "outputs": [
    {
     "data": {
      "text/html": [
       "<div>\n",
       "<style>\n",
       "    .dataframe thead tr:only-child th {\n",
       "        text-align: right;\n",
       "    }\n",
       "\n",
       "    .dataframe thead th {\n",
       "        text-align: left;\n",
       "    }\n",
       "\n",
       "    .dataframe tbody tr th {\n",
       "        vertical-align: top;\n",
       "    }\n",
       "</style>\n",
       "<table border=\"1\" class=\"dataframe\">\n",
       "  <thead>\n",
       "    <tr style=\"text-align: right;\">\n",
       "      <th></th>\n",
       "      <th>city</th>\n",
       "      <th>gruendungsjahr</th>\n",
       "      <th>breitengrad</th>\n",
       "      <th>laengengrad</th>\n",
       "      <th>einwohnerzahl</th>\n",
       "      <th>jahr_sollte_ueberprueft_werden</th>\n",
       "    </tr>\n",
       "  </thead>\n",
       "  <tbody>\n",
       "    <tr>\n",
       "      <th>0</th>\n",
       "      <td>Andernach</td>\n",
       "      <td>12</td>\n",
       "      <td>50.439722222222</td>\n",
       "      <td>7.4016666666667</td>\n",
       "      <td>29.860</td>\n",
       "      <td>1</td>\n",
       "    </tr>\n",
       "    <tr>\n",
       "      <th>1</th>\n",
       "      <td>Kempten (Allgäu)</td>\n",
       "      <td>15</td>\n",
       "      <td>47.733333333333</td>\n",
       "      <td>10.316666666667</td>\n",
       "      <td>68.330</td>\n",
       "      <td>1</td>\n",
       "    </tr>\n",
       "    <tr>\n",
       "      <th>2</th>\n",
       "      <td>Augsburg</td>\n",
       "      <td>-15</td>\n",
       "      <td>48.371666666667</td>\n",
       "      <td>10.898333333333</td>\n",
       "      <td>292.851</td>\n",
       "      <td>0</td>\n",
       "    </tr>\n",
       "    <tr>\n",
       "      <th>3</th>\n",
       "      <td>Neu-Ulm</td>\n",
       "      <td>1810</td>\n",
       "      <td>48.394166666667</td>\n",
       "      <td>9.9988888888889</td>\n",
       "      <td>57.727</td>\n",
       "      <td>0</td>\n",
       "    </tr>\n",
       "    <tr>\n",
       "      <th>4</th>\n",
       "      <td>Putbus</td>\n",
       "      <td>1810</td>\n",
       "      <td>54.353333333333</td>\n",
       "      <td>13.471944444444</td>\n",
       "      <td>4396</td>\n",
       "      <td>1</td>\n",
       "    </tr>\n",
       "  </tbody>\n",
       "</table>\n",
       "</div>"
      ],
      "text/plain": [
       "               city  gruendungsjahr      breitengrad      laengengrad  \\\n",
       "0         Andernach              12  50.439722222222  7.4016666666667   \n",
       "1  Kempten (Allgäu)              15  47.733333333333  10.316666666667   \n",
       "2          Augsburg             -15  48.371666666667  10.898333333333   \n",
       "3           Neu-Ulm            1810  48.394166666667  9.9988888888889   \n",
       "4            Putbus            1810  54.353333333333  13.471944444444   \n",
       "\n",
       "  einwohnerzahl  jahr_sollte_ueberprueft_werden  \n",
       "0       29.860                                1  \n",
       "1       68.330                                1  \n",
       "2      292.851                                0  \n",
       "3       57.727                                0  \n",
       "4         4396                                1  "
      ]
     },
     "execution_count": 1,
     "metadata": {},
     "output_type": "execute_result"
    }
   ],
   "source": [
    "import pandas as pd\n",
    "import sqlite3\n",
    "import matplotlib.image as mpimg\n",
    "\n",
    "cnx = sqlite3.connect('second_and_better_valid-db.sqlite')\n",
    "\n",
    "df = pd.read_sql_query(\"SELECT * FROM CityTable\", cnx)\n",
    "\n",
    "df.head()"
   ]
  },
  {
   "cell_type": "code",
   "execution_count": 2,
   "metadata": {
    "collapsed": true
   },
   "outputs": [],
   "source": [
    "#ich musste ein paar Werte, aber nicht viele, recherchieren und nachtragen"
   ]
  },
  {
   "cell_type": "code",
   "execution_count": 3,
   "metadata": {
    "collapsed": true
   },
   "outputs": [],
   "source": [
    "# convert coordinates for plotting:\n",
    "df['breitengrad'] = df['breitengrad'].astype('float64')\n",
    "df['laengengrad'] = df['laengengrad'].astype('float64')"
   ]
  },
  {
   "cell_type": "code",
   "execution_count": 4,
   "metadata": {},
   "outputs": [
    {
     "data": {
      "text/plain": [
       "'\\n# Where to save the figures\\nPROJECT_ROOT_DIR = \".\"\\nIMAGES_PATH = os.path.join(PROJECT_ROOT_DIR, \"images\")\\n\\ndef save_fig(fig_id, tight_layout=True, fig_extension=\"png\", resolution=300):\\n    path = os.path.join(IMAGES_PATH, fig_id + \".\" + fig_extension)\\n    print(\"Saving figure\", fig_id)\\n    if tight_layout:\\n        plt.tight_layout()\\n    plt.savefig(path, format=fig_extension, dpi=resolution)'"
      ]
     },
     "execution_count": 4,
     "metadata": {},
     "output_type": "execute_result"
    }
   ],
   "source": [
    "# To plot pretty figures\n",
    "%matplotlib inline\n",
    "import matplotlib\n",
    "import matplotlib.pyplot as plt\n",
    "import os\n",
    "#plt.rcParams['axes.labelsize'] = 14\n",
    "#plt.rcParams['xtick.labelsize'] = 12\n",
    "#plt.rcParams['ytick.labelsize'] = 12\n",
    "'''\n",
    "# Where to save the figures\n",
    "PROJECT_ROOT_DIR = \".\"\n",
    "IMAGES_PATH = os.path.join(PROJECT_ROOT_DIR, \"images\")\n",
    "\n",
    "def save_fig(fig_id, tight_layout=True, fig_extension=\"png\", resolution=300):\n",
    "    path = os.path.join(IMAGES_PATH, fig_id + \".\" + fig_extension)\n",
    "    print(\"Saving figure\", fig_id)\n",
    "    if tight_layout:\n",
    "        plt.tight_layout()\n",
    "    plt.savefig(path, format=fig_extension, dpi=resolution)'''"
   ]
  },
  {
   "cell_type": "code",
   "execution_count": 5,
   "metadata": {},
   "outputs": [
    {
     "data": {
      "text/plain": [
       "(652, 6)"
      ]
     },
     "execution_count": 5,
     "metadata": {},
     "output_type": "execute_result"
    }
   ],
   "source": [
    "df.shape"
   ]
  },
  {
   "cell_type": "code",
   "execution_count": 6,
   "metadata": {},
   "outputs": [
    {
     "name": "stdout",
     "output_type": "stream",
     "text": [
      "<class 'pandas.core.frame.DataFrame'>\n",
      "RangeIndex: 652 entries, 0 to 651\n",
      "Data columns (total 6 columns):\n",
      "city                              652 non-null object\n",
      "gruendungsjahr                    652 non-null int64\n",
      "breitengrad                       652 non-null float64\n",
      "laengengrad                       652 non-null float64\n",
      "einwohnerzahl                     652 non-null object\n",
      "jahr_sollte_ueberprueft_werden    652 non-null int64\n",
      "dtypes: float64(2), int64(2), object(2)\n",
      "memory usage: 30.6+ KB\n"
     ]
    }
   ],
   "source": [
    "df.info()"
   ]
  },
  {
   "cell_type": "code",
   "execution_count": 7,
   "metadata": {
    "collapsed": true
   },
   "outputs": [],
   "source": [
    "df['einwohnerzahl'] = df['einwohnerzahl'].apply(lambda x: int(str(x).replace('.','')))"
   ]
  },
  {
   "cell_type": "code",
   "execution_count": 41,
   "metadata": {},
   "outputs": [
    {
     "data": {
      "text/html": [
       "<div>\n",
       "<style>\n",
       "    .dataframe thead tr:only-child th {\n",
       "        text-align: right;\n",
       "    }\n",
       "\n",
       "    .dataframe thead th {\n",
       "        text-align: left;\n",
       "    }\n",
       "\n",
       "    .dataframe tbody tr th {\n",
       "        vertical-align: top;\n",
       "    }\n",
       "</style>\n",
       "<table border=\"1\" class=\"dataframe\">\n",
       "  <thead>\n",
       "    <tr style=\"text-align: right;\">\n",
       "      <th></th>\n",
       "      <th>gruendungsjahr</th>\n",
       "      <th>breitengrad</th>\n",
       "      <th>laengengrad</th>\n",
       "      <th>einwohnerzahl</th>\n",
       "      <th>jahr_sollte_ueberprueft_werden</th>\n",
       "      <th>markersize</th>\n",
       "    </tr>\n",
       "  </thead>\n",
       "  <tbody>\n",
       "    <tr>\n",
       "      <th>count</th>\n",
       "      <td>652.000000</td>\n",
       "      <td>652.000000</td>\n",
       "      <td>652.000000</td>\n",
       "      <td>6.520000e+02</td>\n",
       "      <td>652.000000</td>\n",
       "      <td>652.000000</td>\n",
       "    </tr>\n",
       "    <tr>\n",
       "      <th>mean</th>\n",
       "      <td>1163.322086</td>\n",
       "      <td>50.778700</td>\n",
       "      <td>10.510367</td>\n",
       "      <td>5.423633e+04</td>\n",
       "      <td>0.386503</td>\n",
       "      <td>17.317196</td>\n",
       "    </tr>\n",
       "    <tr>\n",
       "      <th>std</th>\n",
       "      <td>448.007921</td>\n",
       "      <td>1.534771</td>\n",
       "      <td>2.125433</td>\n",
       "      <td>1.909763e+05</td>\n",
       "      <td>0.487322</td>\n",
       "      <td>25.898921</td>\n",
       "    </tr>\n",
       "    <tr>\n",
       "      <th>min</th>\n",
       "      <td>-19.000000</td>\n",
       "      <td>47.545833</td>\n",
       "      <td>6.083611</td>\n",
       "      <td>2.800000e+02</td>\n",
       "      <td>0.000000</td>\n",
       "      <td>10.000000</td>\n",
       "    </tr>\n",
       "    <tr>\n",
       "      <th>25%</th>\n",
       "      <td>889.750000</td>\n",
       "      <td>49.831250</td>\n",
       "      <td>8.827153</td>\n",
       "      <td>6.917000e+03</td>\n",
       "      <td>0.000000</td>\n",
       "      <td>10.900065</td>\n",
       "    </tr>\n",
       "    <tr>\n",
       "      <th>50%</th>\n",
       "      <td>1150.000000</td>\n",
       "      <td>50.871806</td>\n",
       "      <td>10.472843</td>\n",
       "      <td>1.663600e+04</td>\n",
       "      <td>0.000000</td>\n",
       "      <td>12.218091</td>\n",
       "    </tr>\n",
       "    <tr>\n",
       "      <th>75%</th>\n",
       "      <td>1279.500000</td>\n",
       "      <td>51.583681</td>\n",
       "      <td>12.086736</td>\n",
       "      <td>3.905900e+04</td>\n",
       "      <td>1.000000</td>\n",
       "      <td>15.258948</td>\n",
       "    </tr>\n",
       "    <tr>\n",
       "      <th>max</th>\n",
       "      <td>2018.000000</td>\n",
       "      <td>54.630000</td>\n",
       "      <td>14.987222</td>\n",
       "      <td>3.613495e+06</td>\n",
       "      <td>1.000000</td>\n",
       "      <td>500.000000</td>\n",
       "    </tr>\n",
       "  </tbody>\n",
       "</table>\n",
       "</div>"
      ],
      "text/plain": [
       "       gruendungsjahr  breitengrad  laengengrad  einwohnerzahl  \\\n",
       "count      652.000000   652.000000   652.000000   6.520000e+02   \n",
       "mean      1163.322086    50.778700    10.510367   5.423633e+04   \n",
       "std        448.007921     1.534771     2.125433   1.909763e+05   \n",
       "min        -19.000000    47.545833     6.083611   2.800000e+02   \n",
       "25%        889.750000    49.831250     8.827153   6.917000e+03   \n",
       "50%       1150.000000    50.871806    10.472843   1.663600e+04   \n",
       "75%       1279.500000    51.583681    12.086736   3.905900e+04   \n",
       "max       2018.000000    54.630000    14.987222   3.613495e+06   \n",
       "\n",
       "       jahr_sollte_ueberprueft_werden  markersize  \n",
       "count                      652.000000  652.000000  \n",
       "mean                         0.386503   17.317196  \n",
       "std                          0.487322   25.898921  \n",
       "min                          0.000000   10.000000  \n",
       "25%                          0.000000   10.900065  \n",
       "50%                          0.000000   12.218091  \n",
       "75%                          1.000000   15.258948  \n",
       "max                          1.000000  500.000000  "
      ]
     },
     "execution_count": 41,
     "metadata": {},
     "output_type": "execute_result"
    }
   ],
   "source": [
    "# Größe des Markers im Graph ist am besten im Intervall 100-500:\n",
    "import numpy as np\n",
    "\n",
    "smallest_city = df['einwohnerzahl'].min()\n",
    "\n",
    "largest_city = df['einwohnerzahl'].max()\n",
    "\n",
    "# scale markersize into interval [10, 500]\n",
    "df['markersize'] = df['einwohnerzahl'].apply(lambda a: np.interp(a, (smallest_city, largest_city), (10, 500)))\n",
    "\n",
    "df['markersize'].tail()\n",
    "\n",
    "df.describe()"
   ]
  },
  {
   "cell_type": "code",
   "execution_count": 39,
   "metadata": {},
   "outputs": [
    {
     "name": "stdout",
     "output_type": "stream",
     "text": [
      "        city  gruendungsjahr  breitengrad  laengengrad  einwohnerzahl  \\\n",
      "131   Berlin            1237    52.518611    13.408333        3613495   \n",
      "144  München            1158    48.137222    11.575556        1456039   \n",
      "335  Hamburg             832    53.550556     9.993333        1830584   \n",
      "\n",
      "     jahr_sollte_ueberprueft_werden  markersize  \n",
      "131                               0  500.000000  \n",
      "144                               0  207.420278  \n",
      "335                               0  258.213560  \n"
     ]
    }
   ],
   "source": [
    "print(df[df.markersize  >= 200])"
   ]
  },
  {
   "cell_type": "code",
   "execution_count": 51,
   "metadata": {},
   "outputs": [
    {
     "name": "stderr",
     "output_type": "stream",
     "text": [
      "D:\\programmierung\\Anaconda3\\lib\\site-packages\\ipykernel_launcher.py:5: SettingWithCopyWarning: \n",
      "A value is trying to be set on a copy of a slice from a DataFrame.\n",
      "Try using .loc[row_indexer,col_indexer] = value instead\n",
      "\n",
      "See the caveats in the documentation: http://pandas.pydata.org/pandas-docs/stable/indexing.html#indexing-view-versus-copy\n",
      "  \"\"\"\n"
     ]
    },
    {
     "data": {
      "text/html": [
       "<div>\n",
       "<style>\n",
       "    .dataframe thead tr:only-child th {\n",
       "        text-align: right;\n",
       "    }\n",
       "\n",
       "    .dataframe thead th {\n",
       "        text-align: left;\n",
       "    }\n",
       "\n",
       "    .dataframe tbody tr th {\n",
       "        vertical-align: top;\n",
       "    }\n",
       "</style>\n",
       "<table border=\"1\" class=\"dataframe\">\n",
       "  <thead>\n",
       "    <tr style=\"text-align: right;\">\n",
       "      <th></th>\n",
       "      <th>city</th>\n",
       "      <th>gruendungsjahr</th>\n",
       "      <th>breitengrad</th>\n",
       "      <th>laengengrad</th>\n",
       "      <th>einwohnerzahl</th>\n",
       "      <th>jahr_sollte_ueberprueft_werden</th>\n",
       "      <th>markersize</th>\n",
       "    </tr>\n",
       "  </thead>\n",
       "  <tbody>\n",
       "    <tr>\n",
       "      <th>2</th>\n",
       "      <td>Augsburg</td>\n",
       "      <td>-15</td>\n",
       "      <td>48.371667</td>\n",
       "      <td>10.898333</td>\n",
       "      <td>292851</td>\n",
       "      <td>0</td>\n",
       "      <td>10</td>\n",
       "    </tr>\n",
       "    <tr>\n",
       "      <th>639</th>\n",
       "      <td>Koblenz</td>\n",
       "      <td>-9</td>\n",
       "      <td>50.356667</td>\n",
       "      <td>7.593889</td>\n",
       "      <td>113844</td>\n",
       "      <td>0</td>\n",
       "      <td>10</td>\n",
       "    </tr>\n",
       "    <tr>\n",
       "      <th>641</th>\n",
       "      <td>Speyer</td>\n",
       "      <td>-10</td>\n",
       "      <td>49.317222</td>\n",
       "      <td>8.434167</td>\n",
       "      <td>50931</td>\n",
       "      <td>0</td>\n",
       "      <td>10</td>\n",
       "    </tr>\n",
       "    <tr>\n",
       "      <th>644</th>\n",
       "      <td>Bonn</td>\n",
       "      <td>-12</td>\n",
       "      <td>50.733992</td>\n",
       "      <td>7.099814</td>\n",
       "      <td>325490</td>\n",
       "      <td>0</td>\n",
       "      <td>10</td>\n",
       "    </tr>\n",
       "    <tr>\n",
       "      <th>645</th>\n",
       "      <td>Xanten</td>\n",
       "      <td>-12</td>\n",
       "      <td>51.660278</td>\n",
       "      <td>6.450556</td>\n",
       "      <td>21614</td>\n",
       "      <td>0</td>\n",
       "      <td>10</td>\n",
       "    </tr>\n",
       "    <tr>\n",
       "      <th>646</th>\n",
       "      <td>Mainz</td>\n",
       "      <td>-13</td>\n",
       "      <td>50.000000</td>\n",
       "      <td>8.271111</td>\n",
       "      <td>215110</td>\n",
       "      <td>0</td>\n",
       "      <td>10</td>\n",
       "    </tr>\n",
       "    <tr>\n",
       "      <th>647</th>\n",
       "      <td>Worms</td>\n",
       "      <td>-14</td>\n",
       "      <td>49.633056</td>\n",
       "      <td>8.360833</td>\n",
       "      <td>83081</td>\n",
       "      <td>0</td>\n",
       "      <td>10</td>\n",
       "    </tr>\n",
       "    <tr>\n",
       "      <th>649</th>\n",
       "      <td>Trier</td>\n",
       "      <td>-17</td>\n",
       "      <td>49.759600</td>\n",
       "      <td>6.643900</td>\n",
       "      <td>110013</td>\n",
       "      <td>0</td>\n",
       "      <td>10</td>\n",
       "    </tr>\n",
       "    <tr>\n",
       "      <th>650</th>\n",
       "      <td>Köln</td>\n",
       "      <td>-19</td>\n",
       "      <td>50.938056</td>\n",
       "      <td>6.956944</td>\n",
       "      <td>1080394</td>\n",
       "      <td>0</td>\n",
       "      <td>10</td>\n",
       "    </tr>\n",
       "    <tr>\n",
       "      <th>651</th>\n",
       "      <td>Neuss</td>\n",
       "      <td>-16</td>\n",
       "      <td>51.198611</td>\n",
       "      <td>6.691389</td>\n",
       "      <td>153810</td>\n",
       "      <td>0</td>\n",
       "      <td>10</td>\n",
       "    </tr>\n",
       "  </tbody>\n",
       "</table>\n",
       "</div>"
      ],
      "text/plain": [
       "         city  gruendungsjahr  breitengrad  laengengrad  einwohnerzahl  \\\n",
       "2    Augsburg             -15    48.371667    10.898333         292851   \n",
       "639   Koblenz              -9    50.356667     7.593889         113844   \n",
       "641    Speyer             -10    49.317222     8.434167          50931   \n",
       "644      Bonn             -12    50.733992     7.099814         325490   \n",
       "645    Xanten             -12    51.660278     6.450556          21614   \n",
       "646     Mainz             -13    50.000000     8.271111         215110   \n",
       "647     Worms             -14    49.633056     8.360833          83081   \n",
       "649     Trier             -17    49.759600     6.643900         110013   \n",
       "650      Köln             -19    50.938056     6.956944        1080394   \n",
       "651     Neuss             -16    51.198611     6.691389         153810   \n",
       "\n",
       "     jahr_sollte_ueberprueft_werden  markersize  \n",
       "2                                 0          10  \n",
       "639                               0          10  \n",
       "641                               0          10  \n",
       "644                               0          10  \n",
       "645                               0          10  \n",
       "646                               0          10  \n",
       "647                               0          10  \n",
       "649                               0          10  \n",
       "650                               0          10  \n",
       "651                               0          10  "
      ]
     },
     "execution_count": 51,
     "metadata": {},
     "output_type": "execute_result"
    }
   ],
   "source": [
    "def get_cities_which_excisted_in(year):\n",
    "    temp_df = df[df.gruendungsjahr  <= year]\n",
    "    \n",
    "    # Größe dynamisch wachsen lassen:\n",
    "    temp_df['markersize'] = temp_df['markersize'].apply(lambda x:  max(x * abs(year) / 2019, 10))\n",
    "    \n",
    "    return temp_df\n",
    "\n",
    "#example:\n",
    "get_cities_which_excisted_in(-2)"
   ]
  },
  {
   "cell_type": "code",
   "execution_count": 70,
   "metadata": {
    "collapsed": true
   },
   "outputs": [],
   "source": [
    "PROJECT_ROOT_DIR = \".\"\n",
    "IMAGES_PATH = os.path.join(PROJECT_ROOT_DIR, \"generated_images\")\n",
    "\n",
    "\n",
    "def plot_german_cities(dataframe, fig_id, year, tight_layout=True, fig_extension=\"png\", resolution=100):\n",
    "    \n",
    "    ax = dataframe.plot.scatter( x=\"laengengrad\", y=\"breitengrad\", alpha=0.4, s=dataframe[\"markersize\"],\n",
    "                                label=\"population\", figsize=(12,8))\n",
    "\n",
    "    # Jeweils die zehn \"größten\" (berechnet an der markersize) Städte in diesem Frame markieren\n",
    "    largest_cities_in_this_year = dataframe.nlargest(10, 'markersize')\n",
    "    for index, row in largest_cities_in_this_year.iterrows():\n",
    "        #print(row['city'], row['markersize'])\n",
    "        ax.annotate(row['city'], ( row['laengengrad'] + 0.1, row['breitengrad']))\n",
    "    \n",
    "    \n",
    "    #plt.axis('scaled')\n",
    "    plt.axes().set_aspect('equal', 'datalim')\n",
    "    plt.imshow(mpimg.imread('./img/umrisskarte-deutschland.png'), extent=[5.8652753, 15.0395564, 47.4809718, 55.0511637], alpha=0.5,\n",
    "               cmap=plt.get_cmap(\"jet\"))\n",
    "    path = os.path.join(IMAGES_PATH, fig_id.zfill(4) + \".\" + fig_extension)\n",
    "    print(\"Saving figure\", fig_id)\n",
    "    if tight_layout:\n",
    "        plt.tight_layout()\n",
    "    plt.savefig(path, format=fig_extension, dpi=resolution)"
   ]
  },
  {
   "cell_type": "code",
   "execution_count": 72,
   "metadata": {
    "collapsed": true
   },
   "outputs": [],
   "source": [
    "%%capture\n",
    "# this instruction disables plotting all images in this notebook cell\n",
    "# see: https://stackoverflow.com/questions/18717877/prevent-plot-from-showing-in-jupyter-notebook\n",
    "\n",
    "amount_of_cities = df.shape[0]\n",
    "\n",
    "earliest_year = df['gruendungsjahr'].min()\n",
    "\n",
    "counter = 1\n",
    "\n",
    "for year in range(earliest_year, 2019, 10):\n",
    "#for year in [-19, 2003]: # for debugging\n",
    "    print(year)\n",
    "    dataframe_to_plot = get_cities_which_excisted_in(year)\n",
    "    plot_german_cities(dataframe_to_plot, str(counter), year)\n",
    "    counter += 1\n",
    "    #save_german_cities(dataframe_to_plot, year)\n",
    "    #print(dataframe_to_plot)"
   ]
  },
  {
   "cell_type": "code",
   "execution_count": 6,
   "metadata": {},
   "outputs": [
    {
     "ename": "ModuleNotFoundError",
     "evalue": "No module named 'imageio'",
     "output_type": "error",
     "traceback": [
      "\u001b[1;31m---------------------------------------------------------------------------\u001b[0m",
      "\u001b[1;31mModuleNotFoundError\u001b[0m                       Traceback (most recent call last)",
      "\u001b[1;32m<ipython-input-6-f29e7cf53b79>\u001b[0m in \u001b[0;36m<module>\u001b[1;34m()\u001b[0m\n\u001b[0;32m      1\u001b[0m \u001b[1;31m# Aus allen produzierten Bildern ein Gif erstellen:\u001b[0m\u001b[1;33m\u001b[0m\u001b[1;33m\u001b[0m\u001b[0m\n\u001b[1;32m----> 2\u001b[1;33m \u001b[1;32mimport\u001b[0m \u001b[0mimageio\u001b[0m\u001b[1;33m\u001b[0m\u001b[0m\n\u001b[0m\u001b[0;32m      3\u001b[0m \u001b[1;32mimport\u001b[0m \u001b[0mos\u001b[0m\u001b[1;33m\u001b[0m\u001b[0m\n\u001b[0;32m      4\u001b[0m \u001b[1;33m\u001b[0m\u001b[0m\n\u001b[0;32m      5\u001b[0m \u001b[0mPROJECT_ROOT_DIR\u001b[0m \u001b[1;33m=\u001b[0m \u001b[1;34m\".\"\u001b[0m\u001b[1;33m\u001b[0m\u001b[0m\n",
      "\u001b[1;31mModuleNotFoundError\u001b[0m: No module named 'imageio'"
     ]
    }
   ],
   "source": [
    "# Aus allen produzierten Bildern ein Gif erstellen:\n",
    "import imageio\n",
    "import os\n",
    "\n",
    "PROJECT_ROOT_DIR = \".\"\n",
    "IMAGES_PATH = os.path.join(PROJECT_ROOT_DIR, \"generated_images\")\n",
    "\n",
    "images = []\n",
    "##\n",
    "filenames = sorted((fn for fn in os.listdir(IMAGES_PATH) if fn.endswith('.png')))\n",
    "#['animationframa.png', 'animationframb.png', 'animationframc.png', ...] \"\n",
    "\n",
    "#images = [Image.open(fn) for fn in file_names]\n",
    "##\n",
    "for filename in filenames:\n",
    "    images.append(imageio.imread(filename))\n",
    "imageio.mimsave(os.path.join(PROJECT_ROOT_DIR,'animation')+'animation.gif', images, duration=0.2)"
   ]
  },
  {
   "cell_type": "code",
   "execution_count": null,
   "metadata": {
    "collapsed": true
   },
   "outputs": [],
   "source": [
    "#list(df.columns.values)\n",
    "#df.plot(kind=\"scatter\", x=\"laengengrad\", y=\"breitengrad\", alpha=0.4, s=df[\"einwohnerzahl\"]/5000, label=\"population\")\n",
    "#save_fig(\"bad_visualization_plot\")\n",
    "df.plot.scatter( x=\"laengengrad\", y=\"breitengrad\", alpha=0.4, s=df[\"einwohnerzahl\"]/5000, label=\"population\",\n",
    "               figsize=(10,10))"
   ]
  },
  {
   "cell_type": "code",
   "execution_count": null,
   "metadata": {
    "collapsed": true
   },
   "outputs": [],
   "source": [
    "# extent(left, right, bottom, top) attribute needs more accurate values:\n",
    "\n",
    "#westlichster Punkt: 51.049887,5.8652753\n",
    "#östlichster Punkt: 51.2727761,15.0395564\n",
    "#nördlichster Punkt (Spitze Sylt): 55.0511637,8.2088865\n",
    "#südlichster Punkt: 47.4809718,7.6516408\n",
    "\n",
    "ax = df.plot.scatter( x=\"laengengrad\", y=\"breitengrad\", alpha=0.4, s=df[\"einwohnerzahl\"]/10000, label=\"jahr_sollte_ueberprueft_werden\",\n",
    "               figsize=(12.3125,16.6666666))\n",
    "\n",
    "# not sure waht, but something distorts my picture.\n",
    "#plt.axis('equal')\n",
    "plt.axis('scaled')\n",
    "plt.imshow(mpimg.imread('./img/Karte_Deutschland.png'), extent=[5.8652753, 15.0395564, 47.4809718, 55.0511637], alpha=0.5,\n",
    "           cmap=plt.get_cmap(\"jet\"))"
   ]
  },
  {
   "cell_type": "code",
   "execution_count": null,
   "metadata": {
    "collapsed": true
   },
   "outputs": [],
   "source": [
    "from mpl_toolkits.basemap import Basemap\n",
    "\n",
    "m = Basemap(projection='mill',llcrnrlat=47.1,urcrnrlat=55.2, llcrnrlon=5.5,urcrnrlon=15.3, resolution='l')\n",
    "\n",
    "m.bluemarble()\n",
    "# m.etopo()"
   ]
  },
  {
   "cell_type": "code",
   "execution_count": null,
   "metadata": {
    "collapsed": true
   },
   "outputs": [],
   "source": [
    "import geopandas as gpd\n",
    "import geoplot as gplt\n",
    "\n",
    "from quilt.data.ResidentMario import geoplot_data\n",
    "continental_cities = gpd.read_file(geoplot_data.usa_cities()).query('POP_2010 > 100000')\n",
    "contiguous_usa = gpd.read_file(geoplot_data.contiguous_usa())\n",
    "continental_cities.head()\n",
    "\n",
    "ax = gplt.pointplot(continental_cities)\n",
    "gplt.polyplot(contiguous_usa, ax=ax)"
   ]
  },
  {
   "cell_type": "code",
   "execution_count": null,
   "metadata": {
    "collapsed": true
   },
   "outputs": [],
   "source": [
    "import matplotlib.pyplot as plt\n",
    "from mpl_toolkits.basemap import Basemap\n",
    "\n",
    "austin = (-97.75, 30.25)\n",
    "hawaii = (-157.8, 21.3)\n",
    "washington = (-77.01, 38.90)\n",
    "chicago = (-87.68, 41.83)\n",
    "losangeles = (-118.25, 34.05)\n",
    "\n",
    "m = Basemap(projection = 'merc', llcrnrlat=10, urcrnrlat=50,\n",
    "        llcrnrlon=-160, urcrnrlon=-60)\n",
    "\n",
    "#m.drawcoastlines()\n",
    "m.fillcontinents (color='lightgray', lake_color='lightblue')\n",
    "m.drawparallels(np.arange(-90.,91.,30.))\n",
    "m.drawmeridians(np.arange(-180.,181.,60.))\n",
    "m.drawmapboundary(fill_color='aqua')\n",
    "\n",
    "#m.drawcounties()\n",
    "\n",
    "x, y = m(*zip(*[hawaii, austin, washington, chicago, losangeles]))\n",
    "m.plot(x,y, marker ='o', markersize=6, markerfacecolor='red', linewidth=0)\n",
    "\n",
    "plt.title('Mercator Projection')\n",
    "plt.show()\n"
   ]
  },
  {
   "cell_type": "code",
   "execution_count": null,
   "metadata": {
    "collapsed": true
   },
   "outputs": [],
   "source": [
    "import numpy as np\n",
    "import matplotlib.pyplot as plt\n",
    "from mpl_toolkits.basemap import Basemap\n",
    "\n",
    "fig = plt.figure(figsize=(20,10))  # predefined figure size, change to your liking. \n",
    "# But doesn't matter if you save to any vector graphics format though (e.g. pdf)\n",
    "ax = fig.add_axes([0.05,0.05,0.9,0.85])\n",
    "\n",
    "# These coordinates form the bounding box of Germany\n",
    "bot, top, left, right = 5.87, 15.04, 47.26, 55.06 # just to zoom in to only Germany\n",
    "map = Basemap(projection='merc', resolution='l',\n",
    "    llcrnrlat=left,\n",
    "    llcrnrlon=bot,\n",
    "    urcrnrlat=right,\n",
    "    urcrnrlon=top)\n",
    "map.readshapefile('./gadm36_DEU_shp/gadm36_DEU_0', 'rds', drawbounds=True)  # plots the state boundaries, read explanation below code\n",
    "map.drawcoastlines()\n",
    "map.fillcontinents(color='#f0f8ff')\n",
    "\n",
    "long1 = np.array([ 13.404954,  11.581981,   9.993682,   8.682127,   6.960279,\n",
    "6.773456,   9.182932,  12.373075,  13.737262,  11.07675 ,\n",
    "7.465298,   7.011555,  12.099147,   9.73201 ,   7.628279,\n",
    "8.801694,  10.52677 ,   8.466039,   8.239761,  10.89779 ,\n",
    "8.403653,   8.532471,   7.098207,   7.216236,   9.987608,\n",
    "7.626135,  11.627624,   6.852038,  10.686559,   8.047179,\n",
    "8.247253,   6.083887,   7.588996,   9.953355,  10.122765])\n",
    "\n",
    "lat1 = np.array([ 52.520007,  48.135125,  53.551085,  50.110922,  50.937531,\n",
    "51.227741,  48.775846,  51.339695,  51.050409,  49.45203 ,\n",
    "51.513587,  51.455643,  54.092441,  52.375892,  51.36591 ,\n",
    "53.079296,  52.268874,  49.487459,  50.078218,  48.370545,\n",
    "49.00689 ,  52.030228,  50.73743 ,  51.481845,  48.401082,\n",
    "51.960665,  52.120533,  51.47512 ,  53.865467,  52.279911,\n",
    "49.992862,  50.775346,  50.356943,  49.791304,  54.323293])\n",
    "\n",
    "long1 = np.array( df['breitengrad'])\n",
    "lat1 = np.array(df['laengengrad'])\n",
    "\n",
    "x, y = map(long1, lat1)\n",
    "print( x[0])\n",
    "#x, y = map(laengengrad, breitengrad)\n",
    "map.plot(x,y,'.')  # Use the dot-marker or use a different marker, but specify the `markersize`.\n",
    "\n",
    "#https://stackoverflow.com/questions/28181415/decrease-size-of-markers-used-in-basemap-and-get-fullscreen"
   ]
  }
 ],
 "metadata": {
  "kernelspec": {
   "display_name": "Python 3",
   "language": "python",
   "name": "python3"
  },
  "language_info": {
   "codemirror_mode": {
    "name": "ipython",
    "version": 3
   },
   "file_extension": ".py",
   "mimetype": "text/x-python",
   "name": "python",
   "nbconvert_exporter": "python",
   "pygments_lexer": "ipython3",
   "version": "3.6.6"
  }
 },
 "nbformat": 4,
 "nbformat_minor": 2
}
